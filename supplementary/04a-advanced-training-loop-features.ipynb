{
 "cells": [
  {
   "cell_type": "markdown",
   "id": "c95ce252",
   "metadata": {},
   "source": [
    "# **Adding Advanced Features to the Training Loop**"
   ]
  },
  {
   "cell_type": "markdown",
   "id": "c37caa71",
   "metadata": {},
   "source": [
    "Here we will cover some advanced techniques which are used during the pre-training, but also overlap with fine-tuning.\n",
    "\n",
    "Specifically, we will cover:\n",
    "- Warm-up\n",
    "- Cosine Decay\n",
    "- Gradient Clipping\n",
    "- A modified training loop covering all three techniques."
   ]
  },
  {
   "cell_type": "markdown",
   "id": "e8c828e5",
   "metadata": {},
   "source": [
    "## **Setup**"
   ]
  },
  {
   "cell_type": "code",
   "execution_count": 1,
   "id": "1d156e27",
   "metadata": {},
   "outputs": [
    {
     "name": "stdout",
     "output_type": "stream",
     "text": [
      "Torch version: 2.7.0\n"
     ]
    }
   ],
   "source": [
    "from importlib.metadata import version\n",
    "import torch\n",
    "\n",
    "print(f\"Torch version: {version('torch')}\")"
   ]
  },
  {
   "cell_type": "code",
   "execution_count": null,
   "id": "a4daf3f3",
   "metadata": {},
   "outputs": [],
   "source": [
    "from pathlib import Path\n",
    "PROJECT_ROOT = Path().absolute().parent"
   ]
  },
  {
   "cell_type": "code",
   "execution_count": 2,
   "id": "263d61c0",
   "metadata": {},
   "outputs": [],
   "source": [
    "from utils.components import GPTModel, create_dataloader_v1\n",
    "\n",
    "GPT_CONFIG_124M = {\n",
    "    \"vocab_size\": 50257,   # Vocabulary size\n",
    "    \"context_length\": 256, # Shortened context length (orig: 1024)\n",
    "    \"emb_dim\": 768,        # Embedding dimension\n",
    "    \"n_heads\": 12,         # Number of attention heads\n",
    "    \"n_layers\": 12,        # Number of layers\n",
    "    \"drop_rate\": 0.1,      # Dropout rate\n",
    "    \"qkv_bias\": False      # Query-key-value bias\n",
    "}\n",
    "\n",
    "device = torch.device(\"cuda\" if torch.cuda.is_available() else \"cpu\")\n",
    "\n",
    "torch.manual_seed(42)\n",
    "model = GPTModel(GPT_CONFIG_124M)\n",
    "model.eval(); # Dropout disabled during inference"
   ]
  },
  {
   "cell_type": "code",
   "execution_count": null,
   "id": "0b469228",
   "metadata": {},
   "outputs": [],
   "source": [
    "data=\"data/the-law-bastiat.txt\"\n",
    "data_path = PROJECT_ROOT / data\n",
    "\n",
    "with open(data_path, \"r\", encoding=\"utf-8\") as file:\n",
    "    text_data = file.read()"
   ]
  },
  {
   "cell_type": "code",
   "execution_count": 15,
   "id": "b4253dad",
   "metadata": {},
   "outputs": [],
   "source": [
    "# Train - Validation ratio\n",
    "train_ratio = 0.90\n",
    "split_idx = int(train_ratio * len(text_data))\n",
    "\n",
    "torch.manual_seed(42)\n",
    "\n",
    "train_loader = create_dataloader_v1(\n",
    "    text_data[:split_idx],\n",
    "    batch_size=2,\n",
    "    max_length=GPT_CONFIG_124M[\"context_length\"],\n",
    "    stride = GPT_CONFIG_124M[\"context_length\"],\n",
    "    drop_last=True,\n",
    "    shuffle=True,\n",
    "    num_workers=0\n",
    ")\n",
    "\n",
    "val_loader = create_dataloader_v1(\n",
    "    text_data[split_idx:],\n",
    "    batch_size=2,\n",
    "    max_length=GPT_CONFIG_124M[\"context_length\"],\n",
    "    stride = GPT_CONFIG_124M[\"context_length\"],\n",
    "    drop_last=False,\n",
    "    shuffle=False,\n",
    "    num_workers=0\n",
    ")"
   ]
  },
  {
   "cell_type": "markdown",
   "id": "a17b2d05",
   "metadata": {},
   "source": [
    "## 1. Learning Rate Warmup"
   ]
  },
  {
   "cell_type": "markdown",
   "id": "2ceb1898",
   "metadata": {},
   "source": []
  },
  {
   "cell_type": "code",
   "execution_count": null,
   "id": "e54fbdc4",
   "metadata": {},
   "outputs": [],
   "source": []
  }
 ],
 "metadata": {
  "kernelspec": {
   "display_name": "LLMs-from-scratch",
   "language": "python",
   "name": "python3"
  },
  "language_info": {
   "codemirror_mode": {
    "name": "ipython",
    "version": 3
   },
   "file_extension": ".py",
   "mimetype": "text/x-python",
   "name": "python",
   "nbconvert_exporter": "python",
   "pygments_lexer": "ipython3",
   "version": "3.11.12"
  }
 },
 "nbformat": 4,
 "nbformat_minor": 5
}
