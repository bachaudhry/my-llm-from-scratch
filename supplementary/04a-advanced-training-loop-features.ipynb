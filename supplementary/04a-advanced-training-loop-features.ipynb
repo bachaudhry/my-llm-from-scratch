{
 "cells": [
  {
   "cell_type": "markdown",
   "id": "c95ce252",
   "metadata": {},
   "source": [
    "# **Adding Advanced Features to the Training Loop**"
   ]
  },
  {
   "cell_type": "markdown",
   "id": "c37caa71",
   "metadata": {},
   "source": [
    "Here we will cover some advanced techniques which are used during the pre-training, but also overlap with fine-tuning.\n",
    "\n",
    "Specifically, we will cover:\n",
    "- Warm-up\n",
    "- Cosine Decay\n",
    "- Gradient Clipping\n",
    "- A modified training loop covering all three techniques."
   ]
  },
  {
   "cell_type": "markdown",
   "id": "e8c828e5",
   "metadata": {},
   "source": [
    "## **Setup**"
   ]
  },
  {
   "cell_type": "code",
   "execution_count": 2,
   "id": "1d156e27",
   "metadata": {},
   "outputs": [
    {
     "name": "stdout",
     "output_type": "stream",
     "text": [
      "Torch version: 2.7.0\n"
     ]
    }
   ],
   "source": [
    "from importlib.metadata import version\n",
    "import torch\n",
    "\n",
    "print(f\"Torch version: {version('torch')}\")"
   ]
  },
  {
   "cell_type": "code",
   "execution_count": 3,
   "id": "a4daf3f3",
   "metadata": {},
   "outputs": [],
   "source": [
    "from pathlib import Path\n",
    "PROJECT_ROOT = Path().absolute().parent"
   ]
  },
  {
   "cell_type": "code",
   "execution_count": 4,
   "id": "263d61c0",
   "metadata": {},
   "outputs": [],
   "source": [
    "from utils.components import GPTModel, create_dataloader_v1\n",
    "\n",
    "GPT_CONFIG_124M = {\n",
    "    \"vocab_size\": 50257,   # Vocabulary size\n",
    "    \"context_length\": 256, # Shortened context length (orig: 1024)\n",
    "    \"emb_dim\": 768,        # Embedding dimension\n",
    "    \"n_heads\": 12,         # Number of attention heads\n",
    "    \"n_layers\": 12,        # Number of layers\n",
    "    \"drop_rate\": 0.1,      # Dropout rate\n",
    "    \"qkv_bias\": False      # Query-key-value bias\n",
    "}\n",
    "\n",
    "device = torch.device(\"cuda\" if torch.cuda.is_available() else \"cpu\")\n",
    "\n",
    "torch.manual_seed(42)\n",
    "model = GPTModel(GPT_CONFIG_124M)\n",
    "model.eval(); # Dropout disabled during inference"
   ]
  },
  {
   "cell_type": "code",
   "execution_count": 5,
   "id": "0b469228",
   "metadata": {},
   "outputs": [],
   "source": [
    "data=\"data/the-verdict.txt\" # Sticking with the tiny sample of the-verdict.\n",
    "data_path = PROJECT_ROOT / data\n",
    "\n",
    "with open(data_path, \"r\", encoding=\"utf-8\") as file:\n",
    "    text_data = file.read()"
   ]
  },
  {
   "cell_type": "code",
   "execution_count": 6,
   "id": "b4253dad",
   "metadata": {},
   "outputs": [],
   "source": [
    "# Train - Validation ratio\n",
    "train_ratio = 0.90\n",
    "split_idx = int(train_ratio * len(text_data))\n",
    "\n",
    "torch.manual_seed(42)\n",
    "\n",
    "train_loader = create_dataloader_v1(\n",
    "    text_data[:split_idx],\n",
    "    batch_size=2,\n",
    "    max_length=GPT_CONFIG_124M[\"context_length\"],\n",
    "    stride = GPT_CONFIG_124M[\"context_length\"],\n",
    "    drop_last=True,\n",
    "    shuffle=True,\n",
    "    num_workers=0\n",
    ")\n",
    "\n",
    "val_loader = create_dataloader_v1(\n",
    "    text_data[split_idx:],\n",
    "    batch_size=2,\n",
    "    max_length=GPT_CONFIG_124M[\"context_length\"],\n",
    "    stride = GPT_CONFIG_124M[\"context_length\"],\n",
    "    drop_last=False,\n",
    "    shuffle=False,\n",
    "    num_workers=0\n",
    ")"
   ]
  },
  {
   "cell_type": "markdown",
   "id": "a17b2d05",
   "metadata": {},
   "source": [
    "## **1. Learning Rate Warmup**"
   ]
  },
  {
   "cell_type": "markdown",
   "id": "2ceb1898",
   "metadata": {},
   "source": [
    "- Learning rate warmup can help stabilize training.\n",
    "- During the step, the learning rate is gradually increased from a very low `initial_lr` value to a user-specified `peak_lr`.\n",
    "- This allows the model to train with small weight updates, which mitigates the risk of large destabilizing updates during training."
   ]
  },
  {
   "cell_type": "code",
   "execution_count": 7,
   "id": "e54fbdc4",
   "metadata": {},
   "outputs": [],
   "source": [
    "n_epochs = 15\n",
    "initial_lr = 0.0001\n",
    "peak_lr = 0.01"
   ]
  },
  {
   "cell_type": "code",
   "execution_count": 8,
   "id": "23856323",
   "metadata": {},
   "outputs": [
    {
     "name": "stdout",
     "output_type": "stream",
     "text": [
      "27\n"
     ]
    }
   ],
   "source": [
    "# Number of warmup steps is between 0.1% to 20% of the total number of steps\n",
    "total_steps = len(train_loader) * n_epochs\n",
    "warmup_steps = int(0.2 * total_steps)\n",
    "print(warmup_steps)"
   ]
  },
  {
   "cell_type": "code",
   "execution_count": 9,
   "id": "e3ef57b9",
   "metadata": {},
   "outputs": [],
   "source": [
    "# Increment is difference between the peak_lr and initial_lr divided by the warmup steps\n",
    "lr_increment = (peak_lr - initial_lr) / warmup_steps\n",
    "\n",
    "global_step = -1\n",
    "track_lrs = []\n",
    "\n",
    "optimizer = torch.optim.AdamW(model.parameters(), weight_decay=0.1)\n",
    "\n",
    "for epoch in range(n_epochs):\n",
    "    for input_batch, target_batch in train_loader:\n",
    "        optimizer.zero_grad()\n",
    "        global_step += 1\n",
    "        \n",
    "        if global_step < warmup_steps:\n",
    "            lr = initial_lr + global_step * lr_increment\n",
    "        else:\n",
    "            lr = peak_lr\n",
    "            \n",
    "        # Apply calculated LR to the optimizer \n",
    "        for param_group in optimizer.param_groups:\n",
    "            param_group[\"lr\"] = lr\n",
    "        track_lrs.append(optimizer.param_groups[0][\"lr\"])\n",
    "        \n",
    "        # Continue training loop's calculation of loss and weight updates..."
   ]
  },
  {
   "cell_type": "code",
   "execution_count": 10,
   "id": "a03b1e20",
   "metadata": {},
   "outputs": [
    {
     "data": {
      "image/png": "[encoded data removed]",
      "text/plain": [
       "<Figure size 500x300 with 1 Axes>"
      ]
     },
     "metadata": {},
     "output_type": "display_data"
    }
   ],
   "source": [
    "import matplotlib.pyplot as plt\n",
    "\n",
    "plt.figure(figsize=(5, 3))\n",
    "plt.ylabel(\"Learning rate\")\n",
    "plt.xlabel(\"Step\")\n",
    "total_training_steps = len(train_loader) * n_epochs\n",
    "plt.plot(range(total_training_steps), track_lrs)\n",
    "plt.tight_layout()\n",
    "plt.show();"
   ]
  },
  {
   "cell_type": "markdown",
   "id": "dee2d0e4",
   "metadata": {},
   "source": [
    "## **2. Cosine Decay / Annealing**"
   ]
  },
  {
   "cell_type": "markdown",
   "id": "961b6e05",
   "metadata": {},
   "source": [
    "- Cosine decay is popular for training complex deep neural networks. It basically adjusts the learning rate across the training epochs.\n",
    "- Here, the learning rate follows a cosine curve which decreases in value to approach near-zero following a half cosine cycle.\n",
    "- The gradual reduction slows the pace of learning as the model begins to improve its weights; it also reduces the risk of over shooting the minima as the training progresses, thus allowing the weights to stabilize the training process for later stages.\n",
    "- An alternative method to adjusting learning rates is to use linear decay as shown in the paper [OLMo: Accelerating the Science of Language Models](https://arxiv.org/abs/2402.00838))"
   ]
  },
  {
   "cell_type": "code",
   "execution_count": 11,
   "id": "b493794a",
   "metadata": {},
   "outputs": [],
   "source": [
    "import math\n",
    "\n",
    "min_lr = 0.1 * initial_lr\n",
    "track_lrs = []\n",
    "\n",
    "lr_increment = (peak_lr - initial_lr) / warmup_steps\n",
    "global_step = -1\n",
    "\n",
    "for epoch in range(n_epochs):\n",
    "    for input_batch, target_batch in train_loader:\n",
    "        optimizer.zero_grad()\n",
    "        global_step += 1\n",
    "        \n",
    "        # Adjust LR based on the current phase (warmup or cosine annealing)\n",
    "        if global_step <  warmup_steps:\n",
    "            # Use Linear warmup\n",
    "            lr = initial_lr + global_step * lr_increment\n",
    "        else:\n",
    "            # Use Cosine Annealing after warmup\n",
    "            progress = ((global_step - warmup_steps) / \n",
    "                        (total_training_steps - warmup_steps))\n",
    "            lr = min_lr + (peak_lr - min_lr) * 0.5 * (\n",
    "                1 + math.cos(math.pi * progress)\n",
    "            )\n",
    "        \n",
    "        # Apply calculated LR to the optimizer\n",
    "        for param_group in optimizer.param_groups:\n",
    "            param_group[\"lr\"] = lr\n",
    "        track_lrs.append(optimizer.param_groups[0][\"lr\"])"
   ]
  },
  {
   "cell_type": "code",
   "execution_count": 12,
   "id": "e59aa687",
   "metadata": {},
   "outputs": [
    {
     "data": {
      "image/png": "[encoded data removed]",
      "text/plain": [
       "<Figure size 500x300 with 1 Axes>"
      ]
     },
     "metadata": {},
     "output_type": "display_data"
    }
   ],
   "source": [
    "plt.figure(figsize=(5, 3))\n",
    "plt.ylabel(\"Learning rate\")\n",
    "plt.xlabel(\"Step\")\n",
    "plt.plot(range(total_training_steps), track_lrs)\n",
    "plt.tight_layout();\n",
    "plt.show()"
   ]
  },
  {
   "cell_type": "markdown",
   "id": "a0c4b1e8",
   "metadata": {},
   "source": [
    "## **3. Gradient Clipping**"
   ]
  },
  {
   "cell_type": "markdown",
   "id": "16057bb6",
   "metadata": {},
   "source": [
    "- Gradient clipping ensures stabilized training by scaling down any gradients which exceed a predetermined threshold limit during back-propagation.\n",
    "- In the code sample below, using `max_norm=1.0` in PyTorch's `clip_grad_norm_` method means that the norm of the gradients is clipped to a value which does not exceed 1.0.\n",
    "- Here the norm refers to the L2 or Euclidean norm when measured according to the gradient vector's length / magnitude in the model's parameter space."
   ]
  },
  {
   "cell_type": "code",
   "execution_count": 13,
   "id": "f59b728b",
   "metadata": {},
   "outputs": [],
   "source": [
    "from utils.components import calc_loss_batch\n",
    "\n",
    "# Initialize a new model and calculate the loss for a training batch\n",
    "torch.manual_seed(42)\n",
    "model = GPTModel(GPT_CONFIG_124M)\n",
    "model.to(device)\n",
    "\n",
    "loss = calc_loss_batch(input_batch, target_batch, model, device)\n",
    "loss.backward()"
   ]
  },
  {
   "cell_type": "code",
   "execution_count": 15,
   "id": "b5f93fd9",
   "metadata": {},
   "outputs": [
    {
     "name": "stdout",
     "output_type": "stream",
     "text": [
      "tensor(0.0313, device='cuda:0')\n"
     ]
    }
   ],
   "source": [
    "# Utility funciton to calculate the highest gradient based on all model weights\n",
    "def find_highest_gradient(model):\n",
    "    max_grad = None\n",
    "    for param in model.parameters():\n",
    "        if param.grad is not None: # stored gradients\n",
    "            grad_values = param.grad.data.flatten()\n",
    "            max_grad_param = grad_values.max()\n",
    "            if max_grad is None or max_grad_param > max_grad:\n",
    "                max_grad = max_grad_param\n",
    "    return max_grad\n",
    "\n",
    "print(find_highest_gradient(model))"
   ]
  },
  {
   "cell_type": "code",
   "execution_count": 16,
   "id": "43df182c",
   "metadata": {},
   "outputs": [
    {
     "name": "stdout",
     "output_type": "stream",
     "text": [
      "tensor(0.0313, device='cuda:0')\n"
     ]
    }
   ],
   "source": [
    "# Applying gradient clipping\n",
    "torch.nn.utils.clip_grad_norm_(model.parameters(), max_norm=1.0)\n",
    "print(find_highest_gradient(model))"
   ]
  },
  {
   "cell_type": "markdown",
   "id": "37f0a29b",
   "metadata": {},
   "source": [
    "## **4. Modified Training Loop**"
   ]
  },
  {
   "cell_type": "markdown",
   "id": "bc0f427d",
   "metadata": {},
   "source": [
    "This updated training loop will now include LR Warmup, Cosine Annealing and Gradient Clipping. Moving forward, `train_model_simple` will be replaced by the new and improved `train_model`."
   ]
  },
  {
   "cell_type": "code",
   "execution_count": 17,
   "id": "6d249150",
   "metadata": {},
   "outputs": [],
   "source": [
    "from utils.components import evaluate_model, generate_and_print_sample\n",
    "\n",
    "def train_model(model, train_loader, val_loader, optimizer, device, n_epochs,\n",
    "                eval_freq, eval_iter, start_context, tokenizer, warmup_steps,\n",
    "                initial_lr=3e-5, min_lr=1e-6):\n",
    "    \n",
    "    train_losses, val_losses, track_tokens_seen, track_lrs = [], [], [], []\n",
    "    tokens_seen, global_step = 0, -1\n",
    "    \n",
    "    # Retrieve the maximum LR from the optimizer\n",
    "    peak_lr = optimizer.param_groups[0][\"lr\"]\n",
    "    \n",
    "    # Calculate the total number of iterations in the training process\n",
    "    total_training_steps = len(train_loader) * n_epochs\n",
    "    \n",
    "    # Calculate the learning rate increment during the warmup phase\n",
    "    lr_increment = (peak_lr - initial_lr) / warmup_steps\n",
    "    \n",
    "    for epoch in range(n_epochs):\n",
    "        model.train()\n",
    "        for input_batch, target_batch in train_loader:\n",
    "            optimizer.zero_grad()\n",
    "            global_step += 1\n",
    "            \n",
    "            # Adjust the LR based on the current phase i.e. warmup or cosine annealing\n",
    "            if global_step < warmup_steps:\n",
    "                #Linear warmup\n",
    "                lr = initial_lr + global_step * lr_increment\n",
    "            else:\n",
    "                # Cosing annealing after warmup\n",
    "                progress = ((global_step - warmup_steps) / \n",
    "                            (total_training_steps - warmup_steps))\n",
    "                lr = min_lr + (peak_lr - min_lr) * 0.5 * (1 + math.cos(math.pi * progress))\n",
    "                \n",
    "            # Apply the calculated LR to the optimizer\n",
    "            for param_group in optimizer.param_groups:\n",
    "                param_group[\"lr\"] = lr\n",
    "            track_lrs.append(lr) # Store current LR\n",
    "            \n",
    "            # Calculate backprop loss\n",
    "            loss = calc_loss_batch(input_batch, target_batch, model, device)\n",
    "            loss.backward()\n",
    "            \n",
    "            # Apply gradient clipping. Using >= avoids a skipped clipping step after warmup\n",
    "            if global_step >= warmup_steps:\n",
    "                torch.nn.utils.clip_grad_norm_(model.parameters(), max_norm=1.0)\n",
    "                \n",
    "            optimizer.step()\n",
    "            tokens_seen += input_batch.numel()\n",
    "            \n",
    "            # Periodically evaluate the model on the training and validation sets\n",
    "            if global_step % eval_freq == 0:\n",
    "                train_loss, val_loss = evaluate_model(\n",
    "                    model, train_loader, val_loader,\n",
    "                    device, eval_iter\n",
    "                )\n",
    "                train_losses.append(train_loss)\n",
    "                val_losses.append(val_loss)\n",
    "                track_tokens_seen.append(tokens_seen)\n",
    "                # Print current losses\n",
    "                print(f\"Epoch {epoch+1} (Iter {global_step:06d}): \"\n",
    "                      f\"Train loss {train_loss:.3f}, \"\n",
    "                      f\"Val loss {val_loss:.3f}\"\n",
    "                )\n",
    "        \n",
    "        generate_and_print_sample(\n",
    "            model, tokenizer, device, start_context\n",
    "        )\n",
    "    \n",
    "    return train_losses, val_losses, track_tokens_seen, track_lrs\n",
    "                "
   ]
  },
  {
   "cell_type": "code",
   "execution_count": 19,
   "id": "2f249860",
   "metadata": {},
   "outputs": [
    {
     "name": "stdout",
     "output_type": "stream",
     "text": [
      "Epoch 1 (Iter 000000): Train loss 10.983, Val loss 11.008\n",
      "Epoch 1 (Iter 000005): Train loss 9.149, Val loss 9.494\n",
      "Time and tide wait, the,,, the,,,,,, the,, the,, the,, the,,, the,,,,,,,, the,, the,,,,,, the,,, the,\n",
      "Epoch 2 (Iter 000010): Train loss 8.095, Val loss 8.237\n",
      "Epoch 2 (Iter 000015): Train loss 6.383, Val loss 6.888\n",
      "Time and tide wait,,,,,,,,,,,, the,,,,,, the,,,,, the                        \n",
      "Epoch 3 (Iter 000020): Train loss 5.982, Val loss 6.659\n",
      "Epoch 3 (Iter 000025): Train loss 6.140, Val loss 6.832\n",
      "Time and tide wait his I I I-- I I I--I--I I I I I I I-- I I I I I I I I I I I I I I--I--I I I I I--I--I I--I I I\n",
      "Epoch 4 (Iter 000030): Train loss 5.940, Val loss 7.083\n",
      "Epoch 4 (Iter 000035): Train loss 5.936, Val loss 7.025\n",
      "Time and tide wait.                                                 \n",
      "Epoch 5 (Iter 000040): Train loss 5.811, Val loss 6.897\n",
      "Time and tide wait the                                                 \n",
      "Epoch 6 (Iter 000045): Train loss 5.823, Val loss 6.786\n",
      "Epoch 6 (Iter 000050): Train loss 5.331, Val loss 6.658\n",
      "Time and tide wait.. was. Gisburn was. Gisburn was. \". was. Gisburn was. had.. him. had. was. Gisburn was. had. had. had. \" was.'s was.\n",
      "Epoch 7 (Iter 000055): Train loss 4.862, Val loss 6.532\n",
      "Epoch 7 (Iter 000060): Train loss 4.419, Val loss 6.432\n",
      "Time and tide wait.                                                 \n",
      "Epoch 8 (Iter 000065): Train loss 3.604, Val loss 6.289\n",
      "Epoch 8 (Iter 000070): Train loss 2.866, Val loss 6.312\n",
      "Time and tide wait the fact, and in the picture--I felt, and he had been a little, and in a little the fact, the Riviera.                     \n",
      "Epoch 9 (Iter 000075): Train loss 2.320, Val loss 6.252\n",
      "Epoch 9 (Iter 000080): Train loss 2.225, Val loss 6.303\n",
      "Time and tide wait of the inevitable gar that, and he was dead, and he had been a little: \"strong of the donkey, I had to see a smile, and I had been, I had to have to the donkey. \"--that was his\n",
      "Epoch 10 (Iter 000085): Train loss 1.446, Val loss 6.446\n",
      "Time and tide wait in the inevitable garlanded frame. Gisburn--as the Sevres and silver of the house.\"   He laughed again, and threw back the same quality as his pictures--the quality of Jack's \"strongest,\" she.\n",
      "Epoch 11 (Iter 000090): Train loss 1.292, Val loss 6.416\n",
      "Epoch 11 (Iter 000095): Train loss 1.097, Val loss 6.507\n",
      "Time and tide wait I'd never touched a little wild--I felt nervous and uncertain.    \"I turned, and else.  I moved away, and his glory, and his pictures--the quality of his ease--because he didn't want\n",
      "Epoch 12 (Iter 000100): Train loss 0.479, Val loss 6.571\n",
      "Epoch 12 (Iter 000105): Train loss 0.395, Val loss 6.686\n",
      "Time and tide wait in the inevitable garlanded frame. The mere outline of the frame called up all Gisburn's past! I felt to see a smile behind his close grayish beard--as if he had the donkey. \"strongest,\" as his\n",
      "Epoch 13 (Iter 000110): Train loss 0.232, Val loss 6.859\n",
      "Epoch 13 (Iter 000115): Train loss 0.246, Val loss 6.966\n",
      "Time and tide wait in the inevitable garlanded frame. The mere outline of the frame called up all Gisburn's past!  He laughed again, and threw back his glory, he had dropped his painting, the donkey. \"There were days when I\n",
      "Epoch 14 (Iter 000120): Train loss 0.197, Val loss 7.016\n",
      "Epoch 14 (Iter 000125): Train loss 0.176, Val loss 7.139\n",
      "Time and tide wait in the inevitable garlanded frame. The mere outline of the frame called up all Gisburn's past!  Mrs. Gisburn drew back the window-curtains, moved aside a _jardiniere_ full of\n",
      "Epoch 15 (Iter 000130): Train loss 0.120, Val loss 7.214\n",
      "Time and tide waitlit terrace.  I glanced after him, struck by his last word. Victor Grindle was, in fact, becoming the man of the moment--as Jack himself, one might put it, had been the man of the hour. The\n",
      "Epoch 16 (Iter 000135): Train loss 0.125, Val loss 7.244\n",
      "Epoch 16 (Iter 000140): Train loss 0.107, Val loss 7.342\n",
      "Time and tide wait strokes began to go a little wild--I felt nervous and uncertain.  \"Once, when I looked up, I seemed to what a smile behind his close grayish beard--as if he had the secret, and were amusing himself by holding\n",
      "Epoch 17 (Iter 000145): Train loss 0.073, Val loss 7.324\n",
      "Epoch 17 (Iter 000150): Train loss 0.030, Val loss 7.340\n",
      "Time and tide wait strokes began to go a little wild--I felt nervous and uncertain.  \"Once, when I looked up, I seemed to see a smile behind his close grayish beard--as if he had the secret, and were amusing himself by holding\n",
      "Epoch 18 (Iter 000155): Train loss 0.035, Val loss 7.456\n",
      "Epoch 18 (Iter 000160): Train loss 0.025, Val loss 7.429\n",
      "Time and tide wait strokes began to go a little wild--I felt nervous and uncertain.  \"Once, when I looked up, I seemed to see a smile behind his close grayish beard--as if he had the secret, and were amusing himself by holding\n",
      "Epoch 19 (Iter 000165): Train loss 0.020, Val loss 7.412\n",
      "Epoch 19 (Iter 000170): Train loss 0.023, Val loss 7.480\n",
      "Time and tide wait strokes began to go a little wild--I felt nervous and uncertain.  \"Once, when I looked up, I seemed to see a smile behind his close grayish beard--as if he had the secret, and were amusing himself by holding\n",
      "Epoch 20 (Iter 000175): Train loss 0.015, Val loss 7.546\n",
      "Time and tide wait strokes began to go a little wild--I felt nervous and uncertain.  \"Once, when I looked up, I seemed to see a smile behind his close grayish beard--as if he had the secret, and were amusing himself by holding\n",
      "Epoch 21 (Iter 000180): Train loss 0.015, Val loss 7.530\n",
      "Epoch 21 (Iter 000185): Train loss 0.020, Val loss 7.517\n",
      "Time and tide wait strokes began to go a little wild--I felt nervous and uncertain.  \"Once, when I looked up, I seemed to see a smile behind his close grayish beard--as if he had the secret, and were amusing himself by holding\n",
      "Epoch 22 (Iter 000190): Train loss 0.012, Val loss 7.515\n",
      "Epoch 22 (Iter 000195): Train loss 0.010, Val loss 7.529\n",
      "Time and tide wait strokes began to go a little wild--I felt nervous and uncertain.  \"Once, when I looked up, I seemed to see a smile behind his close grayish beard--as if he had the secret, and were amusing himself by holding\n",
      "Epoch 23 (Iter 000200): Train loss 0.010, Val loss 7.546\n",
      "Epoch 23 (Iter 000205): Train loss 0.010, Val loss 7.560\n",
      "Time and tide wait strokes began to go a little wild--I felt nervous and uncertain.  \"Once, when I looked up, I seemed to see a smile behind his close grayish beard--as if he had the secret, and were amusing himself by holding\n",
      "Epoch 24 (Iter 000210): Train loss 0.009, Val loss 7.565\n",
      "Epoch 24 (Iter 000215): Train loss 0.009, Val loss 7.570\n",
      "Time and tide wait strokes began to go a little wild--I felt nervous and uncertain.  \"Once, when I looked up, I seemed to see a smile behind his close grayish beard--as if he had the secret, and were amusing himself by holding\n",
      "Epoch 25 (Iter 000220): Train loss 0.008, Val loss 7.572\n",
      "Time and tide wait strokes began to go a little wild--I felt nervous and uncertain.  \"Once, when I looked up, I seemed to see a smile behind his close grayish beard--as if he had the secret, and were amusing himself by holding\n",
      "Epoch 26 (Iter 000225): Train loss 0.008, Val loss 7.572\n",
      "Epoch 26 (Iter 000230): Train loss 0.008, Val loss 7.573\n",
      "Time and tide wait strokes began to go a little wild--I felt nervous and uncertain.  \"Once, when I looked up, I seemed to see a smile behind his close grayish beard--as if he had the secret, and were amusing himself by holding\n",
      "Epoch 27 (Iter 000235): Train loss 0.007, Val loss 7.574\n",
      "Epoch 27 (Iter 000240): Train loss 0.008, Val loss 7.575\n",
      "Time and tide wait strokes began to go a little wild--I felt nervous and uncertain.  \"Once, when I looked up, I seemed to see a smile behind his close grayish beard--as if he had the secret, and were amusing himself by holding\n",
      "Epoch 28 (Iter 000245): Train loss 0.008, Val loss 7.576\n",
      "Epoch 28 (Iter 000250): Train loss 0.008, Val loss 7.578\n",
      "Time and tide wait strokes began to go a little wild--I felt nervous and uncertain.  \"Once, when I looked up, I seemed to see a smile behind his close grayish beard--as if he had the secret, and were amusing himself by holding\n",
      "Epoch 29 (Iter 000255): Train loss 0.008, Val loss 7.578\n",
      "Epoch 29 (Iter 000260): Train loss 0.008, Val loss 7.579\n",
      "Time and tide wait strokes began to go a little wild--I felt nervous and uncertain.  \"Once, when I looked up, I seemed to see a smile behind his close grayish beard--as if he had the secret, and were amusing himself by holding\n",
      "Epoch 30 (Iter 000265): Train loss 0.008, Val loss 7.579\n",
      "Time and tide wait strokes began to go a little wild--I felt nervous and uncertain.  \"Once, when I looked up, I seemed to see a smile behind his close grayish beard--as if he had the secret, and were amusing himself by holding\n",
      "Training completed in 0.57 minutes.\n"
     ]
    }
   ],
   "source": [
    "import tiktoken\n",
    "\n",
    "import time\n",
    "start_time = time.time()\n",
    "\n",
    "torch.manual_seed(42)\n",
    "model = GPTModel(GPT_CONFIG_124M)\n",
    "model.to(device)\n",
    "\n",
    "peak_lr = 0.001\n",
    "optimizer = torch.optim.AdamW(model.parameters(), lr=peak_lr, weight_decay=0.1)\n",
    "tokenizer = tiktoken.get_encoding(\"gpt2\")\n",
    "\n",
    "n_epochs = 30\n",
    "\n",
    "train_losses, val_losses, tokens_seen, lrs = train_model(\n",
    "    model, train_loader, val_loader, optimizer, device, n_epochs=n_epochs,\n",
    "    eval_freq=5, eval_iter=1, start_context=\"Time and tide wait\",\n",
    "    tokenizer=tokenizer, warmup_steps=warmup_steps, \n",
    "    initial_lr=1e-5, min_lr=1e-5\n",
    ")\n",
    "\n",
    "end_time = time.time()\n",
    "exec_time = (end_time - start_time) / 60\n",
    "print(f\"Training completed in {exec_time:.2f} minutes.\")"
   ]
  },
  {
   "cell_type": "code",
   "execution_count": null,
   "id": "278f5837",
   "metadata": {},
   "outputs": [
    {
     "data": {
      "image/png": "[encoded data removed]",
      "text/plain": [
       "<Figure size 500x300 with 1 Axes>"
      ]
     },
     "metadata": {},
     "output_type": "display_data"
    }
   ],
   "source": [
    "# Checking the LR\n",
    "plt.figure(figsize=(5, 3))\n",
    "plt.plot(range(len(lrs)), lrs)\n",
    "plt.ylabel(\"Learning rate\")\n",
    "plt.xlabel(\"Steps\")\n",
    "plt.show()"
   ]
  },
  {
   "cell_type": "code",
   "execution_count": 22,
   "id": "6cdd303c",
   "metadata": {},
   "outputs": [
    {
     "data": {
      "image/png": "[encoded data removed]",
      "text/plain": [
       "<Figure size 500x300 with 2 Axes>"
      ]
     },
     "metadata": {},
     "output_type": "display_data"
    },
    {
     "data": {
      "text/plain": [
       "<Figure size 640x480 with 0 Axes>"
      ]
     },
     "metadata": {},
     "output_type": "display_data"
    }
   ],
   "source": [
    "from utils.components import plot_losses\n",
    "\n",
    "# Checking loss curves\n",
    "epochs_tensor = torch.linspace(1, n_epochs, len(train_losses))\n",
    "plot_losses(epochs_tensor, tokens_seen, train_losses, val_losses)\n",
    "plt.tight_layout()\n",
    "plt.show()"
   ]
  },
  {
   "cell_type": "code",
   "execution_count": null,
   "id": "e83a6e6c",
   "metadata": {},
   "outputs": [],
   "source": []
  }
 ],
 "metadata": {
  "kernelspec": {
   "display_name": "LLMs-from-scratch",
   "language": "python",
   "name": "python3"
  },
  "language_info": {
   "codemirror_mode": {
    "name": "ipython",
    "version": 3
   },
   "file_extension": ".py",
   "mimetype": "text/x-python",
   "name": "python",
   "nbconvert_exporter": "python",
   "pygments_lexer": "ipython3",
   "version": "3.11.12"
  }
 },
 "nbformat": 4,
 "nbformat_minor": 5
}
