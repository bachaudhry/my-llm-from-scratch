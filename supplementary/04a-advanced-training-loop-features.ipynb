{
 "cells": [
  {
   "cell_type": "markdown",
   "id": "c95ce252",
   "metadata": {},
   "source": [
    "# **Adding Advanced Features to the Training Loop**"
   ]
  },
  {
   "cell_type": "markdown",
   "id": "c37caa71",
   "metadata": {},
   "source": [
    "Here we will cover some advanced techniques which are used during the pre-training, but also overlap with fine-tuning.\n",
    "\n",
    "Specifically, we will cover:\n",
    "- Warm-up\n",
    "- Cosine Decay\n",
    "- Gradient Clipping\n",
    "- A modified training loop covering all three techniques."
   ]
  },
  {
   "cell_type": "markdown",
   "id": "e8c828e5",
   "metadata": {},
   "source": [
    "## **Setup**"
   ]
  },
  {
   "cell_type": "code",
   "execution_count": 1,
   "id": "1d156e27",
   "metadata": {},
   "outputs": [
    {
     "name": "stdout",
     "output_type": "stream",
     "text": [
      "Torch version: 2.7.0\n"
     ]
    }
   ],
   "source": [
    "from importlib.metadata import version\n",
    "import torch\n",
    "\n",
    "print(f\"Torch version: {version('torch')}\")"
   ]
  },
  {
   "cell_type": "code",
   "execution_count": 2,
   "id": "a4daf3f3",
   "metadata": {},
   "outputs": [],
   "source": [
    "from pathlib import Path\n",
    "PROJECT_ROOT = Path().absolute().parent"
   ]
  },
  {
   "cell_type": "code",
   "execution_count": 3,
   "id": "263d61c0",
   "metadata": {},
   "outputs": [],
   "source": [
    "from utils.components import GPTModel, create_dataloader_v1\n",
    "\n",
    "GPT_CONFIG_124M = {\n",
    "    \"vocab_size\": 50257,   # Vocabulary size\n",
    "    \"context_length\": 256, # Shortened context length (orig: 1024)\n",
    "    \"emb_dim\": 768,        # Embedding dimension\n",
    "    \"n_heads\": 12,         # Number of attention heads\n",
    "    \"n_layers\": 12,        # Number of layers\n",
    "    \"drop_rate\": 0.1,      # Dropout rate\n",
    "    \"qkv_bias\": False      # Query-key-value bias\n",
    "}\n",
    "\n",
    "device = torch.device(\"cuda\" if torch.cuda.is_available() else \"cpu\")\n",
    "\n",
    "torch.manual_seed(42)\n",
    "model = GPTModel(GPT_CONFIG_124M)\n",
    "model.eval(); # Dropout disabled during inference"
   ]
  },
  {
   "cell_type": "code",
   "execution_count": 4,
   "id": "0b469228",
   "metadata": {},
   "outputs": [],
   "source": [
    "data=\"data/the-verdict.txt\" # Sticking with the tiny sample of the-verdict.\n",
    "data_path = PROJECT_ROOT / data\n",
    "\n",
    "with open(data_path, \"r\", encoding=\"utf-8\") as file:\n",
    "    text_data = file.read()"
   ]
  },
  {
   "cell_type": "code",
   "execution_count": 5,
   "id": "b4253dad",
   "metadata": {},
   "outputs": [],
   "source": [
    "# Train - Validation ratio\n",
    "train_ratio = 0.90\n",
    "split_idx = int(train_ratio * len(text_data))\n",
    "\n",
    "torch.manual_seed(42)\n",
    "\n",
    "train_loader = create_dataloader_v1(\n",
    "    text_data[:split_idx],\n",
    "    batch_size=2,\n",
    "    max_length=GPT_CONFIG_124M[\"context_length\"],\n",
    "    stride = GPT_CONFIG_124M[\"context_length\"],\n",
    "    drop_last=True,\n",
    "    shuffle=True,\n",
    "    num_workers=0\n",
    ")\n",
    "\n",
    "val_loader = create_dataloader_v1(\n",
    "    text_data[split_idx:],\n",
    "    batch_size=2,\n",
    "    max_length=GPT_CONFIG_124M[\"context_length\"],\n",
    "    stride = GPT_CONFIG_124M[\"context_length\"],\n",
    "    drop_last=False,\n",
    "    shuffle=False,\n",
    "    num_workers=0\n",
    ")"
   ]
  },
  {
   "cell_type": "markdown",
   "id": "a17b2d05",
   "metadata": {},
   "source": [
    "## **1. Learning Rate Warmup**"
   ]
  },
  {
   "cell_type": "markdown",
   "id": "2ceb1898",
   "metadata": {},
   "source": [
    "- Learning rate warmup can help stabilize training.\n",
    "- During the step, the learning rate is gradually increased from a very low `initial_lr` value to a user-specified `peak_lr`.\n",
    "- This allows the model to train with small weight updates, which mitigates the risk of large destabilizing updates during training."
   ]
  },
  {
   "cell_type": "code",
   "execution_count": 7,
   "id": "e54fbdc4",
   "metadata": {},
   "outputs": [],
   "source": [
    "n_epochs = 15\n",
    "initial_lr = 0.0001\n",
    "peak_lr = 0.01"
   ]
  },
  {
   "cell_type": "code",
   "execution_count": 8,
   "id": "23856323",
   "metadata": {},
   "outputs": [
    {
     "name": "stdout",
     "output_type": "stream",
     "text": [
      "27\n"
     ]
    }
   ],
   "source": [
    "# Number of warmup steps is between 0.1% to 20% of the total number of steps\n",
    "total_steps = len(train_loader) * n_epochs\n",
    "warmup_steps = int(0.2 * total_steps)\n",
    "print(warmup_steps)"
   ]
  },
  {
   "cell_type": "code",
   "execution_count": 9,
   "id": "e3ef57b9",
   "metadata": {},
   "outputs": [],
   "source": [
    "# Increment is difference between the peak_lr and initial_lr divided by the warmup steps\n",
    "lr_increment = (peak_lr - initial_lr) / warmup_steps\n",
    "\n",
    "global_step = -1\n",
    "track_lrs = []\n",
    "\n",
    "optimizer = torch.optim.AdamW(model.parameters(), weight_decay=0.1)\n",
    "\n",
    "for epoch in range(n_epochs):\n",
    "    for input_batch, target_batch in train_loader:\n",
    "        optimizer.zero_grad()\n",
    "        global_step += 1\n",
    "        \n",
    "        if global_step < warmup_steps:\n",
    "            lr = initial_lr + global_step * lr_increment\n",
    "        else:\n",
    "            lr = peak_lr\n",
    "            \n",
    "        # Apply calculated LR to the optimizer \n",
    "        for param_group in optimizer.param_groups:\n",
    "            param_group[\"lr\"] = lr\n",
    "        track_lrs.append(optimizer.param_groups[0][\"lr\"])\n",
    "        \n",
    "        # Continue training loop's calculation of loss and weight updates..."
   ]
  },
  {
   "cell_type": "code",
   "execution_count": 10,
   "id": "a03b1e20",
   "metadata": {},
   "outputs": [
    {
     "data": {
      "image/png": "[encoded data removed]",
      "text/plain": [
       "<Figure size 500x300 with 1 Axes>"
      ]
     },
     "metadata": {},
     "output_type": "display_data"
    }
   ],
   "source": [
    "import matplotlib.pyplot as plt\n",
    "\n",
    "plt.figure(figsize=(5, 3))\n",
    "plt.ylabel(\"Learning rate\")\n",
    "plt.xlabel(\"Step\")\n",
    "total_training_steps = len(train_loader) * n_epochs\n",
    "plt.plot(range(total_training_steps), track_lrs)\n",
    "plt.tight_layout()\n",
    "plt.show();"
   ]
  },
  {
   "cell_type": "markdown",
   "id": "dee2d0e4",
   "metadata": {},
   "source": [
    "## **2. Cosine Decay / Annealing**"
   ]
  },
  {
   "cell_type": "markdown",
   "id": "961b6e05",
   "metadata": {},
   "source": [
    "- Cosine decay is popular for training complex deep neural networks. It basically adjusts the learning rate across the training epochs.\n",
    "- Here, the learning rate follows a cosine curve which decreases in value to approach near-zero following a half cosine cycle.\n",
    "- The gradual reduction slows the pace of learning as the model begins to improve its weights; it also reduces the risk of over shooting the minima as the training progresses, thus allowing the weights to stabilize the training process for later stages.\n",
    "- An alternative method to adjusting learning rates is to use linear decay as shown in the paper [OLMo: Accelerating the Science of Language Models](https://arxiv.org/abs/2402.00838))"
   ]
  },
  {
   "cell_type": "code",
   "execution_count": 25,
   "id": "b493794a",
   "metadata": {},
   "outputs": [],
   "source": [
    "import math\n",
    "\n",
    "min_lr = 0.1 * initial_lr\n",
    "track_lrs = []\n",
    "\n",
    "lr_increment = (peak_lr - initial_lr) / warmup_steps\n",
    "global_step = -1\n",
    "\n",
    "for epoch in range(n_epochs):\n",
    "    for input_batch, target_batch in train_loader:\n",
    "        optimizer.zero_grad()\n",
    "        global_step += 1\n",
    "        \n",
    "        # Adjust LR based on the current phase (warmup or cosine annealing)\n",
    "        if global_step <  warmup_steps:\n",
    "            # Use Linear warmup\n",
    "            lr = initial_lr + global_step * lr_increment\n",
    "        else:\n",
    "            # Use Cosine Annealing after warmup\n",
    "            progress = ((global_step - warmup_steps) / \n",
    "                        (total_training_steps - warmup_steps))\n",
    "            lr = min_lr + (peak_lr - min_lr) * 0.5 * (\n",
    "                1 + math.cos(math.pi * progress)\n",
    "            )\n",
    "        \n",
    "        # Apply calculated LR to the optimizer\n",
    "        for param_group in optimizer.param_groups:\n",
    "            param_group[\"lr\"] = lr\n",
    "        track_lrs.append(optimizer.param_groups[0][\"lr\"])"
   ]
  },
  {
   "cell_type": "code",
   "execution_count": null,
   "id": "e59aa687",
   "metadata": {},
   "outputs": [
    {
     "data": {
      "image/png": "[encoded data removed]",
      "text/plain": [
       "<Figure size 500x300 with 1 Axes>"
      ]
     },
     "metadata": {},
     "output_type": "display_data"
    }
   ],
   "source": [
    "plt.figure(figsize=(5, 3))\n",
    "plt.ylabel(\"Learning rate\")\n",
    "plt.xlabel(\"Step\")\n",
    "plt.plot(range(total_training_steps), track_lrs)\n",
    "plt.tight_layout();\n",
    "plt.show()"
   ]
  },
  {
   "cell_type": "markdown",
   "id": "a0c4b1e8",
   "metadata": {},
   "source": [
    "## **3. Gradient Clipping**"
   ]
  },
  {
   "cell_type": "markdown",
   "id": "16057bb6",
   "metadata": {},
   "source": [
    "- Gradient clipping ensures stabilized training by scaling down any gradients which exceed a predetermined threshold limit during back-propagation.\n",
    "- In the code sample below, using `max_norm=1.0` in PyTorch's `clip_grad_norm_` method means that the norm of the gradients is clipped to a value which does not exceed 1.0.\n",
    "- Here the norm refers to the L2 or Euclidean norm when measured according to the gradient vector's length / magnitude in the model's parameter space."
   ]
  },
  {
   "cell_type": "code",
   "execution_count": null,
   "id": "f59b728b",
   "metadata": {},
   "outputs": [],
   "source": [
    "from utils.components import calc_loss_batch\n",
    "\n",
    "# Initialize a new model and calculate the loss for a training batch\n",
    "torch.manual_seed(42)\n",
    "model = GPTModel(GPT_CONFIG_124M)\n",
    "model.to(device)\n",
    "\n",
    "loss = calc_loss_batch(input_batch, target_batch, model, device)\n",
    "loss.backward()"
   ]
  },
  {
   "cell_type": "code",
   "execution_count": 12,
   "id": "b5f93fd9",
   "metadata": {},
   "outputs": [
    {
     "name": "stdout",
     "output_type": "stream",
     "text": [
      "tensor(0.0454, device='cuda:0')\n"
     ]
    }
   ],
   "source": [
    "# Utility funciton to calculate the highest gradient based on all model weights\n",
    "def find_highest_gradient(model):\n",
    "    max_grad = None\n",
    "    for param in model.parameters():\n",
    "        if param.grad is not None: # stored gradients\n",
    "            grad_values = param.grad.data.flatten()\n",
    "            max_grad_param = grad_values.max()\n",
    "            if max_grad is None or max_grad_param > max_grad:\n",
    "                max_grad = max_grad_param\n",
    "    return max_grad\n",
    "\n",
    "print(find_highest_gradient(model))"
   ]
  },
  {
   "cell_type": "code",
   "execution_count": 13,
   "id": "43df182c",
   "metadata": {},
   "outputs": [
    {
     "name": "stdout",
     "output_type": "stream",
     "text": [
      "tensor(0.0211, device='cuda:0')\n"
     ]
    }
   ],
   "source": [
    "# Applying gradient clipping\n",
    "torch.nn.utils.clip_grad_norm_(model.parameters(), max_norm=1.0)\n",
    "print(find_highest_gradient(model))"
   ]
  },
  {
   "cell_type": "code",
   "execution_count": null,
   "id": "6d249150",
   "metadata": {},
   "outputs": [],
   "source": []
  }
 ],
 "metadata": {
  "kernelspec": {
   "display_name": "LLMs-from-scratch",
   "language": "python",
   "name": "python3"
  },
  "language_info": {
   "codemirror_mode": {
    "name": "ipython",
    "version": 3
   },
   "file_extension": ".py",
   "mimetype": "text/x-python",
   "name": "python",
   "nbconvert_exporter": "python",
   "pygments_lexer": "ipython3",
   "version": "3.11.12"
  }
 },
 "nbformat": 4,
 "nbformat_minor": 5
}
