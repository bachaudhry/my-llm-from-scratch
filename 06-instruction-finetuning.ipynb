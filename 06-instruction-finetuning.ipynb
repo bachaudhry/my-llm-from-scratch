{
 "cells": [
  {
   "cell_type": "markdown",
   "id": "93a279df",
   "metadata": {},
   "source": [
    "# Instruction Finetuning"
   ]
  },
  {
   "cell_type": "code",
   "execution_count": 1,
   "id": "02a009fe",
   "metadata": {},
   "outputs": [
    {
     "name": "stdout",
     "output_type": "stream",
     "text": [
      "numpy version:2.2.5\n",
      "matplotlib version:3.10.1\n",
      "tiktoken version:0.9.0\n",
      "torch version:2.7.0\n",
      "tqdm version:4.67.1\n",
      "tensorflow version:2.19.0\n"
     ]
    }
   ],
   "source": [
    "from importlib.metadata import version\n",
    "\n",
    "pkgs = [\n",
    "    \"numpy\",       \n",
    "    \"matplotlib\", \n",
    "    \"tiktoken\",    \n",
    "    \"torch\",      \n",
    "    \"tqdm\",        \n",
    "    \"tensorflow\",\n",
    "]\n",
    "\n",
    "for p in pkgs:\n",
    "    print(f\"{p} version:{version(p)}\") "
   ]
  },
  {
   "cell_type": "markdown",
   "id": "4bb2a456",
   "metadata": {},
   "source": []
  },
  {
   "cell_type": "markdown",
   "id": "47314e07",
   "metadata": {},
   "source": [
    "## Dataset Preparation for Supervised Finetuning"
   ]
  },
  {
   "cell_type": "code",
   "execution_count": 2,
   "id": "532cb7f1",
   "metadata": {},
   "outputs": [],
   "source": [
    "import json, os, requests\n",
    "\n",
    "\n",
    "def download_and_load_file(file_path, url):\n",
    "    if not os.path.exists(file_path):\n",
    "        response = requests.get(url, timeout=30)\n",
    "        response.raise_for_status()\n",
    "        text_data = response.text\n",
    "        with open(file_path, \"w\", encoding=\"utf-8\") as file:\n",
    "            file.write(text_data)\n",
    "            \n",
    "    with open(file_path, \"r\", encoding=\"utf-8\") as file:\n",
    "        data = json.load(file)\n",
    "        \n",
    "    return data"
   ]
  },
  {
   "cell_type": "code",
   "execution_count": null,
   "id": "02c9f279",
   "metadata": {},
   "outputs": [],
   "source": [
    "file_path = \"data/instruct/instruction-data.json\"\n",
    "url = (\n",
    "    \"https://raw.githubusercontent.com/rasbt/LLMs-from-scratch\"\n",
    "    \"/main/ch07/01_main-chapter-code/instruction-data.json\" \n",
    ")\n",
    "\n",
    "data = download_and_load_file(file_path, url)\n",
    "print(\"Number of entries\", len(data))"
   ]
  },
  {
   "cell_type": "code",
   "execution_count": null,
   "id": "586ee0c0",
   "metadata": {},
   "outputs": [],
   "source": [
    "print(\"Example entry:\\n\", data[50])"
   ]
  },
  {
   "cell_type": "code",
   "execution_count": null,
   "id": "05bb6410",
   "metadata": {},
   "outputs": [],
   "source": [
    "print(\"Another example entry:\\n\", data[444])"
   ]
  },
  {
   "cell_type": "markdown",
   "id": "b222e204",
   "metadata": {},
   "source": []
  },
  {
   "cell_type": "code",
   "execution_count": null,
   "id": "381c0b24",
   "metadata": {},
   "outputs": [],
   "source": [
    "def format_input(entry):\n",
    "    instruction_text = (\n",
    "        f\"Below is an instruction that describes a task. \"\n",
    "        f\"Write a reponse that appropriately completes the request.\"\n",
    "        f\"\\n\\n### Instruction:\\n{entry['instruction']}\"\n",
    "    )\n",
    "    \n",
    "    input_text = f\"\\n\\n### Input:\\n{entry['input']}\" if entry[\"input\"] else \"\"\n",
    "    \n",
    "    return instruction_text + input_text"
   ]
  },
  {
   "cell_type": "code",
   "execution_count": null,
   "id": "ead8a069",
   "metadata": {},
   "outputs": [],
   "source": []
  },
  {
   "cell_type": "code",
   "execution_count": null,
   "id": "1590b863",
   "metadata": {},
   "outputs": [],
   "source": []
  },
  {
   "cell_type": "code",
   "execution_count": null,
   "id": "a3da2ec9",
   "metadata": {},
   "outputs": [],
   "source": []
  }
 ],
 "metadata": {
  "kernelspec": {
   "display_name": "LLMs-from-scratch",
   "language": "python",
   "name": "python3"
  },
  "language_info": {
   "codemirror_mode": {
    "name": "ipython",
    "version": 3
   },
   "file_extension": ".py",
   "mimetype": "text/x-python",
   "name": "python",
   "nbconvert_exporter": "python",
   "pygments_lexer": "ipython3",
   "version": "3.11.12"
  }
 },
 "nbformat": 4,
 "nbformat_minor": 5
}
