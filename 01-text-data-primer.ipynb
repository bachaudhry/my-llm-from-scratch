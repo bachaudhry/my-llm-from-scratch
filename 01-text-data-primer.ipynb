{
 "cells": [
  {
   "cell_type": "markdown",
   "id": "c817a163-44e1-4caf-8133-7de837dbee96",
   "metadata": {},
   "source": [
    "# **Primer on Working With Text Data**"
   ]
  },
  {
   "cell_type": "markdown",
   "id": "aa38fcd8-84e8-4e55-bdc8-c264fc05e894",
   "metadata": {},
   "source": [
    "Let's start off with checking versions of key libraries, in case these notebooks need to be revisited in the future and changes caused by updates to the underlying toolset are easier to track."
   ]
  },
  {
   "cell_type": "code",
   "execution_count": 2,
   "id": "646e7885-3509-4f06-9c03-0e8af02b168b",
   "metadata": {},
   "outputs": [
    {
     "name": "stdout",
     "output_type": "stream",
     "text": [
      "torch version 2.7.0\n",
      "tiktoken version 0.9.0\n"
     ]
    }
   ],
   "source": [
    "from importlib.metadata import version\n",
    "print(\"torch version\", version(\"torch\"))\n",
    "print(\"tiktoken version\", version(\"tiktoken\"))"
   ]
  },
  {
   "cell_type": "code",
   "execution_count": 3,
   "id": "d8a1f83e-3fce-40dc-b780-24ed480833d2",
   "metadata": {},
   "outputs": [],
   "source": [
    "import os\n",
    "import urllib.request"
   ]
  },
  {
   "cell_type": "markdown",
   "id": "69229c0b-cec8-4734-99ff-417197e87d2e",
   "metadata": {},
   "source": [
    "## **1. Tokenizing Text**"
   ]
  },
  {
   "cell_type": "markdown",
   "id": "b60dbe75-333a-4a86-8a02-10ae5b442b57",
   "metadata": {},
   "source": [
    "In the book, Sebastian demonstrates the tokenization of text using Edith Wharton's \"The Verdict\" as an example. I'll be using his provided example as well as samples from my own collection. Starting off with Frederic Bastiat's \"The Law\", which was published in the 19th century, offers a very different style of writing and punctuation compared to more modern writers."
   ]
  },
  {
   "cell_type": "code",
   "execution_count": 4,
   "id": "eed23c27-db0f-45b4-8c6a-41a3b5cbf4ed",
   "metadata": {},
   "outputs": [],
   "source": [
    "# Downloading sample text\n",
    "if not os.path.exists(\"the-verdict.txt\"):\n",
    "    url = (\"https://raw.githubusercontent.com/rasbt/\"\n",
    "           \"LLMs-from-scratch/main/ch02/01_main-chapter-code/\"\n",
    "           \"the-verdict.txt\")\n",
    "    file_path  = \"data/the-verdict.txt\"\n",
    "    urllib.request.urlretrieve(url, file_path)"
   ]
  },
  {
   "cell_type": "code",
   "execution_count": 5,
   "id": "6d81a058-04fa-47c7-bd6d-faba2d330a5a",
   "metadata": {},
   "outputs": [
    {
     "name": "stdout",
     "output_type": "stream",
     "text": [
      "Total number of characters:  20479\n",
      "I HAD always thought Jack Gisburn rather a cheap genius--though a good fellow enough--so it was no \n"
     ]
    }
   ],
   "source": [
    "with open(\"data/the-verdict.txt\", \"r\", encoding=\"utf-8\") as f:\n",
    "    verdict = f.read()\n",
    "\n",
    "print(\"Total number of characters: \", len(verdict))\n",
    "print(verdict[:99])"
   ]
  },
  {
   "cell_type": "code",
   "execution_count": 6,
   "id": "9f8044e0-b5fc-4d7e-a3c2-67a0784a32df",
   "metadata": {},
   "outputs": [
    {
     "name": "stdout",
     "output_type": "stream",
     "text": [
      "Total number of characters:  95988\n",
      " The law perverted! The law—and, in its wake, all the collective forces of the nation—the law, I sa\n"
     ]
    }
   ],
   "source": [
    "with open(\"data/the-law-bastiat.txt\", \"r\", encoding=\"utf-8\") as f:\n",
    "    law = f.read()\n",
    "\n",
    "print(\"Total number of characters: \", len(law))\n",
    "print(law[:99])"
   ]
  },
  {
   "cell_type": "markdown",
   "id": "d6801409-6048-4228-b40f-33e36cae3c6a",
   "metadata": {},
   "source": [
    "These texts will be tokenized and embedded in an LLM. Initially, a simple tokenizer will be created"
   ]
  },
  {
   "cell_type": "code",
   "execution_count": null,
   "id": "f23abcd3-42a4-4908-a251-2e9886330d9b",
   "metadata": {},
   "outputs": [],
   "source": []
  },
  {
   "cell_type": "code",
   "execution_count": null,
   "id": "0266063a-f350-41f3-b47b-90cffcd58893",
   "metadata": {},
   "outputs": [],
   "source": []
  },
  {
   "cell_type": "code",
   "execution_count": null,
   "id": "3b236ce1-c17a-4bcb-a620-35cd774b4cc5",
   "metadata": {},
   "outputs": [],
   "source": []
  },
  {
   "cell_type": "code",
   "execution_count": null,
   "id": "781f5307-a643-476f-89da-ebe433afd83e",
   "metadata": {},
   "outputs": [],
   "source": []
  },
  {
   "cell_type": "code",
   "execution_count": null,
   "id": "1bf97b88-b090-4bbb-a068-d756ccbdca2d",
   "metadata": {},
   "outputs": [],
   "source": []
  },
  {
   "cell_type": "markdown",
   "id": "10884c73-8506-4780-b6c3-83e2eb80b09f",
   "metadata": {},
   "source": [
    "## **2. Converting Tokens Into Token IDs**"
   ]
  },
  {
   "cell_type": "code",
   "execution_count": null,
   "id": "1f659ff9-6fc3-40ed-bb1f-d47a48974481",
   "metadata": {},
   "outputs": [],
   "source": []
  },
  {
   "cell_type": "code",
   "execution_count": null,
   "id": "a285ce4f-ec8e-4ae5-9e91-69f95789eb52",
   "metadata": {},
   "outputs": [],
   "source": []
  },
  {
   "cell_type": "code",
   "execution_count": null,
   "id": "44dcc325-c314-49ac-89f0-1fb15bed5eaa",
   "metadata": {},
   "outputs": [],
   "source": []
  },
  {
   "cell_type": "markdown",
   "id": "2136b28c-d532-4eca-8de5-7e7fe1cbe324",
   "metadata": {},
   "source": [
    "## **3. Adding Special Context Tokens**"
   ]
  },
  {
   "cell_type": "code",
   "execution_count": null,
   "id": "45409b8e-0393-4596-a8b9-607e45fbab66",
   "metadata": {},
   "outputs": [],
   "source": []
  },
  {
   "cell_type": "code",
   "execution_count": null,
   "id": "3369c330-15d6-4d10-94f5-df268b4f5a0d",
   "metadata": {},
   "outputs": [],
   "source": []
  },
  {
   "cell_type": "code",
   "execution_count": null,
   "id": "e11c43e4-1977-4e25-b489-fb6c7bfb2963",
   "metadata": {},
   "outputs": [],
   "source": []
  },
  {
   "cell_type": "code",
   "execution_count": null,
   "id": "0294d639-e95a-486b-bda8-82acee1ed5f6",
   "metadata": {},
   "outputs": [],
   "source": []
  },
  {
   "cell_type": "markdown",
   "id": "ca20e17c-505e-4214-8b87-228f0cf7b7b6",
   "metadata": {},
   "source": [
    "## **4. BytePair Encoding**"
   ]
  },
  {
   "cell_type": "code",
   "execution_count": null,
   "id": "11f281e5-d023-43e9-887c-def1c5128467",
   "metadata": {},
   "outputs": [],
   "source": []
  },
  {
   "cell_type": "code",
   "execution_count": null,
   "id": "0eed4093-69c0-4eba-a2eb-cc01d231766e",
   "metadata": {},
   "outputs": [],
   "source": []
  },
  {
   "cell_type": "code",
   "execution_count": null,
   "id": "af6607b3-aa2d-4105-ac2b-b43a13b48f75",
   "metadata": {},
   "outputs": [],
   "source": []
  },
  {
   "cell_type": "code",
   "execution_count": null,
   "id": "cc4a7a84-34c5-4c10-90b1-b1f103cd018a",
   "metadata": {},
   "outputs": [],
   "source": []
  },
  {
   "cell_type": "markdown",
   "id": "ae509c0b-1314-40ff-8bce-33b881e3cfea",
   "metadata": {},
   "source": [
    "## **5. Data Sampling With a Sliding Window**"
   ]
  },
  {
   "cell_type": "code",
   "execution_count": null,
   "id": "e47a3b6f-4cc7-4fd5-8f5d-00d09009d179",
   "metadata": {},
   "outputs": [],
   "source": []
  },
  {
   "cell_type": "code",
   "execution_count": null,
   "id": "b55fbb62-2815-4f8e-8a09-3772c9ff70b1",
   "metadata": {},
   "outputs": [],
   "source": []
  },
  {
   "cell_type": "code",
   "execution_count": null,
   "id": "81e504a3-8d0c-425f-a081-41e3964ee0b3",
   "metadata": {},
   "outputs": [],
   "source": []
  },
  {
   "cell_type": "code",
   "execution_count": null,
   "id": "50a96ff1-f25f-462f-9bb3-a88cf1cafb51",
   "metadata": {},
   "outputs": [],
   "source": []
  },
  {
   "cell_type": "markdown",
   "id": "75e7318d-d617-4b61-8f2a-8ecc06b39d1c",
   "metadata": {},
   "source": [
    "## **6. Creating Token Embeddings**"
   ]
  },
  {
   "cell_type": "code",
   "execution_count": null,
   "id": "c1b9d9bb-729b-4fa9-8f29-08a95192dd5b",
   "metadata": {},
   "outputs": [],
   "source": []
  },
  {
   "cell_type": "code",
   "execution_count": null,
   "id": "b69d0068-dd3c-4d12-888d-34fcf53df1ee",
   "metadata": {},
   "outputs": [],
   "source": []
  },
  {
   "cell_type": "code",
   "execution_count": null,
   "id": "e89cae2a-7b8a-4597-bf7c-2399028e0013",
   "metadata": {},
   "outputs": [],
   "source": []
  },
  {
   "cell_type": "code",
   "execution_count": null,
   "id": "53fd5c5a-75da-4bbf-9c46-d9d3c52951ff",
   "metadata": {},
   "outputs": [],
   "source": []
  },
  {
   "cell_type": "markdown",
   "id": "9e73ac53-0359-4520-aab0-7a5906ed2b52",
   "metadata": {},
   "source": [
    "## **7. Encoding Word Positions**"
   ]
  },
  {
   "cell_type": "code",
   "execution_count": null,
   "id": "5b24756e-29bb-43b2-b3ca-5e758e0e9072",
   "metadata": {},
   "outputs": [],
   "source": []
  }
 ],
 "metadata": {
  "kernelspec": {
   "display_name": "Python 3 (ipykernel)",
   "language": "python",
   "name": "python3"
  },
  "language_info": {
   "codemirror_mode": {
    "name": "ipython",
    "version": 3
   },
   "file_extension": ".py",
   "mimetype": "text/x-python",
   "name": "python",
   "nbconvert_exporter": "python",
   "pygments_lexer": "ipython3",
   "version": "3.11.12"
  }
 },
 "nbformat": 4,
 "nbformat_minor": 5
}
